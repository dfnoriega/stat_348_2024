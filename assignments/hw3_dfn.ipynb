{
 "cells": [
  {
   "cell_type": "code",
   "execution_count": 1,
   "metadata": {},
   "outputs": [
    {
     "data": {
      "text/latex": [
       "$\\displaystyle \\frac{b^{a} \\mu^{a} e^{- \\mu \\left(b + x\\right)}}{\\Gamma\\left(a\\right)}$"
      ],
      "text/plain": [
       "b**a*mu**a*exp(-mu*(b + x))/gamma(a)"
      ]
     },
     "execution_count": 1,
     "metadata": {},
     "output_type": "execute_result"
    }
   ],
   "source": [
    "from sympy import symbols, exp, gamma, simplify, log\n",
    "\n",
    "# Define symbols\n",
    "mu, a, b, x = symbols('mu a b x')\n",
    "\n",
    "# Prior distribution (Gamma)\n",
    "P_mu_ab = (b**a / gamma(a)) * mu**(a-1) * exp(-b*mu)\n",
    "\n",
    "# Likelihood function (Exponential)\n",
    "P_x_mu = mu * exp(-mu * x)\n",
    "\n",
    "# Multiply Prior by Likelihood\n",
    "posterior = P_mu_ab * P_x_mu\n",
    "\n",
    "# Simplify the expression\n",
    "simplified_posterior = simplify(posterior)\n",
    "\n",
    "simplified_posterior\n"
   ]
  },
  {
   "cell_type": "code",
   "execution_count": null,
   "metadata": {},
   "outputs": [],
   "source": []
  }
 ],
 "metadata": {
  "kernelspec": {
   "display_name": "UChicago1_macbook",
   "language": "python",
   "name": "python3"
  },
  "language_info": {
   "codemirror_mode": {
    "name": "ipython",
    "version": 3
   },
   "file_extension": ".py",
   "mimetype": "text/x-python",
   "name": "python",
   "nbconvert_exporter": "python",
   "pygments_lexer": "ipython3",
   "version": "3.11.5"
  }
 },
 "nbformat": 4,
 "nbformat_minor": 2
}
